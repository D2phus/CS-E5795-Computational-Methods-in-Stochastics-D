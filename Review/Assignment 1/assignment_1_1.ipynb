{
 "cells": [
  {
   "cell_type": "markdown",
   "id": "cad2d8a6",
   "metadata": {},
   "source": [
    "# Define GGL algorithm"
   ]
  },
  {
   "cell_type": "code",
   "execution_count": 56,
   "id": "85d64ef7",
   "metadata": {},
   "outputs": [],
   "source": [
    "def GGL(x_i):\n",
    "    return 16807*x_i % (m_ggL)"
   ]
  },
  {
   "cell_type": "markdown",
   "id": "97baa7fe",
   "metadata": {},
   "source": [
    "# Define RAN3 algorithm"
   ]
  },
  {
   "cell_type": "code",
   "execution_count": 57,
   "id": "c3687d10",
   "metadata": {},
   "outputs": [],
   "source": [
    "def RAN3(x_i_55, xi_24):\n",
    "    return (x_i_55 - x_i_24) % m_ran3"
   ]
  },
  {
   "cell_type": "markdown",
   "id": "693d55c6",
   "metadata": {},
   "source": [
    "## Definitions\n",
    "Define modulos, m_ggl and m_ran3\n",
    "Define arrays for X~U(0,1) and X~U(0,1)\n",
    "Define initial seed for GGL, x_i\n",
    "Define the number of iterations"
   ]
  },
  {
   "cell_type": "code",
   "execution_count": 58,
   "id": "782e31a1",
   "metadata": {},
   "outputs": [],
   "source": [
    "m_ggL = 2**31-1\n",
    "m_ran3 = 2**32\n",
    "ggl_X = []\n",
    "ggl_Y = []\n",
    "x_i = 112\n",
    "iterations = 1000000"
   ]
  },
  {
   "cell_type": "markdown",
   "id": "ae467b6e",
   "metadata": {},
   "source": [
    "## GGL generation"
   ]
  },
  {
   "cell_type": "code",
   "execution_count": 59,
   "id": "07516e0e",
   "metadata": {},
   "outputs": [],
   "source": [
    "for i in range(iterations):\n",
    "    x_i = GGL(x_i)\n",
    "    x_i_normalized = x_i / (m_ggL)\n",
    "    if i % 2 == 0:\n",
    "        ggl_X.append(x_i_normalized)\n",
    "    else:\n",
    "        ggl_Y.append(x_i_normalized)\n",
    "\n"
   ]
  },
  {
   "cell_type": "markdown",
   "id": "b766e4b7",
   "metadata": {},
   "source": [
    "## RAN3 generation"
   ]
  },
  {
   "cell_type": "code",
   "execution_count": 60,
   "id": "3aac5e3a",
   "metadata": {},
   "outputs": [],
   "source": [
    "seed_array = X[:55]\n",
    "for i in range(iterations):\n",
    "    x_i_55 = seed_array[-55] \n",
    "    x_i_24 = seed_array[-24]\n",
    "    x_i = RAN3(x_i_55, x_i_24)\n",
    "    seed_array.append(x_i)\n",
    "    \n",
    "ran3_results = seed_array[55:]\n",
    "\n",
    "ran3_normalized = [val / m_ran3 for val in ran3_results]\n",
    "\n",
    "ran3_X = ran3_normalized[0::2]\n",
    "ran3_Y = ran3_normalized[1::2]\n"
   ]
  },
  {
   "cell_type": "markdown",
   "id": "30478009",
   "metadata": {},
   "source": [
    "## Built-in generation"
   ]
  },
  {
   "cell_type": "code",
   "execution_count": 61,
   "id": "f761a770",
   "metadata": {},
   "outputs": [],
   "source": [
    "import random \n",
    "\n",
    "mersenne_X = []\n",
    "mersenne_Y = []\n",
    "\n",
    "for i in range(iterations):\n",
    "    rand = random.uniform(0, 1)\n",
    "    if i % 2 == 0:\n",
    "        mersenne_X.append(rand)\n",
    "    else:\n",
    "        mersenne_Y.append(rand)"
   ]
  },
  {
   "cell_type": "markdown",
   "id": "a429abcb",
   "metadata": {},
   "source": [
    "# Plot samples"
   ]
  },
  {
   "cell_type": "code",
   "execution_count": 66,
   "id": "1acdde0b",
   "metadata": {},
   "outputs": [
    {
     "data": {
      "image/png": "[encoded data removed]",
      "text/plain": [
       "<Figure size 640x480 with 1 Axes>"
      ]
     },
     "metadata": {},
     "output_type": "display_data"
    }
   ],
   "source": [
    "import matplotlib.pyplot as plt\n",
    "\n",
    "e = 0.0001\n",
    "min = 0.9\n",
    "\n",
    "plt.scatter(ggl_X, ggl_Y, c='b')\n",
    "plt.scatter(ran3_X, ran3_Y, c='r')\n",
    "plt.scatter(mersenne_X, mersenne_Y, c='g')\n",
    "plt.xlim(min, min+e)\n",
    "plt.show()\n",
    "\n"
   ]
  },
  {
   "cell_type": "markdown",
   "id": "1013feb7",
   "metadata": {},
   "source": [
    "## FINDINGS\n",
    "1) GGL generated random numbers (blue) appear to be highly correlated as was warned in the lecture slides\n",
    "2) RAN3 (red) and Mersenne-Twister (green) do not appear to suffer from correlations"
   ]
  },
  {
   "cell_type": "code",
   "execution_count": null,
   "id": "31444b70",
   "metadata": {},
   "outputs": [],
   "source": []
  }
 ],
 "metadata": {
  "kernelspec": {
   "display_name": "Python 3",
   "language": "python",
   "name": "python3"
  },
  "language_info": {
   "codemirror_mode": {
    "name": "ipython",
    "version": 3
   },
   "file_extension": ".py",
   "mimetype": "text/x-python",
   "name": "python",
   "nbconvert_exporter": "python",
   "pygments_lexer": "ipython3",
   "version": "3.10.8"
  }
 },
 "nbformat": 4,
 "nbformat_minor": 5
}
